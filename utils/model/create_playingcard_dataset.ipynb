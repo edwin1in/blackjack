{
 "cells": [
  {
   "cell_type": "code",
   "execution_count": 1,
   "id": "526b5994-6926-4e94-9b14-3bd4b9417714",
   "metadata": {
    "scrolled": true
   },
   "outputs": [
    {
     "ename": "AttributeError",
     "evalue": "`np.sctypes` was removed in the NumPy 2.0 release. Access dtypes explicitly instead.",
     "output_type": "error",
     "traceback": [
      "\u001b[31m---------------------------------------------------------------------------\u001b[39m",
      "\u001b[31mAttributeError\u001b[39m                            Traceback (most recent call last)",
      "\u001b[36mCell\u001b[39m\u001b[36m \u001b[39m\u001b[32mIn[1]\u001b[39m\u001b[32m, line 12\u001b[39m\n\u001b[32m     10\u001b[39m \u001b[38;5;28;01mimport\u001b[39;00m\u001b[38;5;250m \u001b[39m\u001b[34;01mpickle\u001b[39;00m\n\u001b[32m     11\u001b[39m \u001b[38;5;28;01mfrom\u001b[39;00m\u001b[38;5;250m \u001b[39m\u001b[34;01mglob\u001b[39;00m\u001b[38;5;250m \u001b[39m\u001b[38;5;28;01mimport\u001b[39;00m glob \n\u001b[32m---> \u001b[39m\u001b[32m12\u001b[39m \u001b[38;5;28;01mimport\u001b[39;00m\u001b[38;5;250m \u001b[39m\u001b[34;01mimgaug\u001b[39;00m\u001b[38;5;250m \u001b[39m\u001b[38;5;28;01mas\u001b[39;00m\u001b[38;5;250m \u001b[39m\u001b[34;01mia\u001b[39;00m\n\u001b[32m     13\u001b[39m \u001b[38;5;28;01mfrom\u001b[39;00m\u001b[38;5;250m \u001b[39m\u001b[34;01mimgaug\u001b[39;00m\u001b[38;5;250m \u001b[39m\u001b[38;5;28;01mimport\u001b[39;00m augmenters \u001b[38;5;28;01mas\u001b[39;00m iaa\n\u001b[32m     14\u001b[39m \u001b[38;5;28;01mfrom\u001b[39;00m\u001b[38;5;250m \u001b[39m\u001b[34;01mshapely\u001b[39;00m\u001b[34;01m.\u001b[39;00m\u001b[34;01mgeometry\u001b[39;00m\u001b[38;5;250m \u001b[39m\u001b[38;5;28;01mimport\u001b[39;00m Polygon\n",
      "\u001b[36mFile \u001b[39m\u001b[32mc:\\Users\\edwin\\Downloads\\blackjack\\.venv\\Lib\\site-packages\\imgaug\\__init__.py:7\u001b[39m\n\u001b[32m      2\u001b[39m \u001b[38;5;28;01mfrom\u001b[39;00m\u001b[38;5;250m \u001b[39m\u001b[34;01m__future__\u001b[39;00m\u001b[38;5;250m \u001b[39m\u001b[38;5;28;01mimport\u001b[39;00m absolute_import\n\u001b[32m      4\u001b[39m \u001b[38;5;66;03m# this contains some deprecated classes/functions pointing to the new\u001b[39;00m\n\u001b[32m      5\u001b[39m \u001b[38;5;66;03m# classes/functions, hence always place the other imports below this so that\u001b[39;00m\n\u001b[32m      6\u001b[39m \u001b[38;5;66;03m# the deprecated stuff gets overwritten as much as possible\u001b[39;00m\n\u001b[32m----> \u001b[39m\u001b[32m7\u001b[39m \u001b[38;5;28;01mfrom\u001b[39;00m\u001b[38;5;250m \u001b[39m\u001b[34;01mimgaug\u001b[39;00m\u001b[34;01m.\u001b[39;00m\u001b[34;01mimgaug\u001b[39;00m\u001b[38;5;250m \u001b[39m\u001b[38;5;28;01mimport\u001b[39;00m *  \u001b[38;5;66;03m# pylint: disable=redefined-builtin\u001b[39;00m\n\u001b[32m      9\u001b[39m \u001b[38;5;28;01mimport\u001b[39;00m\u001b[38;5;250m \u001b[39m\u001b[34;01mimgaug\u001b[39;00m\u001b[34;01m.\u001b[39;00m\u001b[34;01maugmentables\u001b[39;00m\u001b[38;5;250m \u001b[39m\u001b[38;5;28;01mas\u001b[39;00m\u001b[38;5;250m \u001b[39m\u001b[34;01maugmentables\u001b[39;00m\n\u001b[32m     10\u001b[39m \u001b[38;5;28;01mfrom\u001b[39;00m\u001b[38;5;250m \u001b[39m\u001b[34;01mimgaug\u001b[39;00m\u001b[34;01m.\u001b[39;00m\u001b[34;01maugmentables\u001b[39;00m\u001b[38;5;250m \u001b[39m\u001b[38;5;28;01mimport\u001b[39;00m *\n",
      "\u001b[36mFile \u001b[39m\u001b[32mc:\\Users\\edwin\\Downloads\\blackjack\\.venv\\Lib\\site-packages\\imgaug\\imgaug.py:45\u001b[39m\n\u001b[32m     36\u001b[39m DEFAULT_FONT_FP = os.path.join(\n\u001b[32m     37\u001b[39m     os.path.dirname(os.path.abspath(\u001b[34m__file__\u001b[39m)),\n\u001b[32m     38\u001b[39m     \u001b[33m\"\u001b[39m\u001b[33mDejaVuSans.ttf\u001b[39m\u001b[33m\"\u001b[39m\n\u001b[32m     39\u001b[39m )\n\u001b[32m     42\u001b[39m \u001b[38;5;66;03m# to check if a dtype instance is among these dtypes, use e.g.\u001b[39;00m\n\u001b[32m     43\u001b[39m \u001b[38;5;66;03m# `dtype.type in  NP_FLOAT_TYPES` do not just use `dtype in NP_FLOAT_TYPES` as\u001b[39;00m\n\u001b[32m     44\u001b[39m \u001b[38;5;66;03m# that would fail\u001b[39;00m\n\u001b[32m---> \u001b[39m\u001b[32m45\u001b[39m NP_FLOAT_TYPES = \u001b[38;5;28mset\u001b[39m(\u001b[43mnp\u001b[49m\u001b[43m.\u001b[49m\u001b[43msctypes\u001b[49m[\u001b[33m\"\u001b[39m\u001b[33mfloat\u001b[39m\u001b[33m\"\u001b[39m])\n\u001b[32m     46\u001b[39m NP_INT_TYPES = \u001b[38;5;28mset\u001b[39m(np.sctypes[\u001b[33m\"\u001b[39m\u001b[33mint\u001b[39m\u001b[33m\"\u001b[39m])\n\u001b[32m     47\u001b[39m NP_UINT_TYPES = \u001b[38;5;28mset\u001b[39m(np.sctypes[\u001b[33m\"\u001b[39m\u001b[33muint\u001b[39m\u001b[33m\"\u001b[39m])\n",
      "\u001b[36mFile \u001b[39m\u001b[32mc:\\Users\\edwin\\Downloads\\blackjack\\.venv\\Lib\\site-packages\\numpy\\__init__.py:413\u001b[39m, in \u001b[36m__getattr__\u001b[39m\u001b[34m(attr)\u001b[39m\n\u001b[32m    410\u001b[39m     \u001b[38;5;28;01mraise\u001b[39;00m \u001b[38;5;167;01mAttributeError\u001b[39;00m(__former_attrs__[attr], name=\u001b[38;5;28;01mNone\u001b[39;00m)\n\u001b[32m    412\u001b[39m \u001b[38;5;28;01mif\u001b[39;00m attr \u001b[38;5;129;01min\u001b[39;00m __expired_attributes__:\n\u001b[32m--> \u001b[39m\u001b[32m413\u001b[39m     \u001b[38;5;28;01mraise\u001b[39;00m \u001b[38;5;167;01mAttributeError\u001b[39;00m(\n\u001b[32m    414\u001b[39m         \u001b[33mf\u001b[39m\u001b[33m\"\u001b[39m\u001b[33m`np.\u001b[39m\u001b[38;5;132;01m{\u001b[39;00mattr\u001b[38;5;132;01m}\u001b[39;00m\u001b[33m` was removed in the NumPy 2.0 release. \u001b[39m\u001b[33m\"\u001b[39m\n\u001b[32m    415\u001b[39m         \u001b[33mf\u001b[39m\u001b[33m\"\u001b[39m\u001b[38;5;132;01m{\u001b[39;00m__expired_attributes__[attr]\u001b[38;5;132;01m}\u001b[39;00m\u001b[33m\"\u001b[39m,\n\u001b[32m    416\u001b[39m         name=\u001b[38;5;28;01mNone\u001b[39;00m\n\u001b[32m    417\u001b[39m     )\n\u001b[32m    419\u001b[39m \u001b[38;5;28;01mif\u001b[39;00m attr == \u001b[33m\"\u001b[39m\u001b[33mchararray\u001b[39m\u001b[33m\"\u001b[39m:\n\u001b[32m    420\u001b[39m     warnings.warn(\n\u001b[32m    421\u001b[39m         \u001b[33m\"\u001b[39m\u001b[33m`np.chararray` is deprecated and will be removed from \u001b[39m\u001b[33m\"\u001b[39m\n\u001b[32m    422\u001b[39m         \u001b[33m\"\u001b[39m\u001b[33mthe main namespace in the future. Use an array with a string \u001b[39m\u001b[33m\"\u001b[39m\n\u001b[32m    423\u001b[39m         \u001b[33m\"\u001b[39m\u001b[33mor bytes dtype instead.\u001b[39m\u001b[33m\"\u001b[39m, \u001b[38;5;167;01mDeprecationWarning\u001b[39;00m, stacklevel=\u001b[32m2\u001b[39m)\n",
      "\u001b[31mAttributeError\u001b[39m: `np.sctypes` was removed in the NumPy 2.0 release. Access dtypes explicitly instead."
     ]
    }
   ],
   "source": [
    "import numpy as np\n",
    "import cv2\n",
    "import os\n",
    "from tqdm import tqdm\n",
    "import random\n",
    "import os\n",
    "import matplotlib.pyplot as plt\n",
    "import matplotlib.image as mpimg\n",
    "import matplotlib.patches as patches\n",
    "import pickle\n",
    "from glob import glob \n",
    "import imgaug as ia\n",
    "from imgaug import augmenters as iaa\n",
    "from shapely.geometry import Polygon"
   ]
  },
  {
   "cell_type": "code",
   "execution_count": null,
   "id": "d30daeae-fd21-4d75-98f4-d8ccf623fa23",
   "metadata": {},
   "outputs": [],
   "source": [
    "def display_img(img,polygons=[],channels=\"bgr\",size=9):\n",
    "    \"\"\"\n",
    "        Function to display an inline image, and draw optional polygons (bounding boxes, convex hulls) on it.\n",
    "        Use the param 'channels' to specify the order of the channels (\"bgr\" for an image coming from OpenCV world)\n",
    "    \"\"\"\n",
    "    if not isinstance(polygons,list):\n",
    "        polygons=[polygons]    \n",
    "    if channels==\"bgr\": # bgr (cv2 image)\n",
    "        nb_channels=img.shape[2]\n",
    "        if nb_channels==4:\n",
    "            img=cv2.cvtColor(img,cv2.COLOR_BGRA2RGBA)\n",
    "        else:\n",
    "            img=cv2.cvtColor(img,cv2.COLOR_BGR2RGB)    \n",
    "    fig,ax=plt.subplots(figsize=(size,size))\n",
    "    ax.set_facecolor((0,0,0))\n",
    "    ax.imshow(img)\n",
    "    for polygon in polygons:\n",
    "        # An polygon has either shape (n,2), \n",
    "        # either (n,1,2) if it is a cv2 contour (like convex hull).\n",
    "        # In the latter case, reshape in (n,2)\n",
    "        if len(polygon.shape)==3:\n",
    "            polygon=polygon.reshape(-1,2)\n",
    "        patch=patches.Polygon(polygon,linewidth=1,edgecolor='g',facecolor='none')\n",
    "        ax.add_patch(patch)\n",
    "\n",
    "def give_me_filename(dirname, suffixes, prefix=\"\"):\n",
    "    \"\"\"\n",
    "        Function that returns a filename or a list of filenames in directory 'dirname'\n",
    "        that does not exist yet. If 'suffixes' is a list, one filename per suffix in 'suffixes':\n",
    "        filename = dirname + \"/\" + prefix + random number + \".\" + suffix\n",
    "        Same random number for all the file name\n",
    "        Ex: \n",
    "        > give_me_filename(\"dir\",\"jpg\", prefix=\"prefix\")\n",
    "        'dir/prefix408290659.jpg'\n",
    "        > give_me_filename(\"dir\",[\"jpg\",\"xml\"])\n",
    "        ['dir/877739594.jpg', 'dir/877739594.xml']        \n",
    "    \"\"\"\n",
    "    if not isinstance(suffixes, list):\n",
    "        suffixes=[suffixes]\n",
    "    \n",
    "    suffixes=[p if p[0]=='.' else '.'+p for p in suffixes]\n",
    "          \n",
    "    while True:\n",
    "        bname=\"%09d\"%random.randint(0,999999999)\n",
    "        fnames=[]\n",
    "        for suffix in suffixes:\n",
    "            fname=os.path.join(dirname,prefix+bname+suffix)\n",
    "            if not os.path.isfile(fname):\n",
    "                fnames.append(fname)\n",
    "                \n",
    "        if len(fnames) == len(suffixes): break\n",
    "    \n",
    "    if len(fnames)==1:\n",
    "        return fnames[0]\n",
    "    else:\n",
    "        return fnames"
   ]
  }
 ],
 "metadata": {
  "kernelspec": {
   "display_name": "Python 3 (ipykernel)",
   "language": "python",
   "name": "python3"
  },
  "language_info": {
   "codemirror_mode": {
    "name": "ipython",
    "version": 3
   },
   "file_extension": ".py",
   "mimetype": "text/x-python",
   "name": "python",
   "nbconvert_exporter": "python",
   "pygments_lexer": "ipython3",
   "version": "3.13.7"
  }
 },
 "nbformat": 4,
 "nbformat_minor": 5
}
